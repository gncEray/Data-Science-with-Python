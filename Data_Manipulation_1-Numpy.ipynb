{
 "cells": [
  {
   "cell_type": "markdown",
   "id": "1e8c0a38-ac39-42e1-a292-6c4b2c6db954",
   "metadata": {},
   "source": [
    "# Numpy"
   ]
  },
  {
   "cell_type": "code",
   "execution_count": 2,
   "id": "a1ea1a00-e9ac-4f76-92c4-838be5e44267",
   "metadata": {},
   "outputs": [],
   "source": [
    "a = [1,2,3,4]\n",
    "b = [0,2,4,8]"
   ]
  },
  {
   "cell_type": "code",
   "execution_count": 3,
   "id": "404568c1-b0c9-4eaa-87a2-fd95c1a4a297",
   "metadata": {},
   "outputs": [],
   "source": [
    "ab = []"
   ]
  },
  {
   "cell_type": "code",
   "execution_count": 4,
   "id": "dcb6f03f-ae31-434e-8d10-88e43efb42c1",
   "metadata": {},
   "outputs": [
    {
     "data": {
      "text/plain": [
       "[0, 4, 12, 32]"
      ]
     },
     "execution_count": 4,
     "metadata": {},
     "output_type": "execute_result"
    }
   ],
   "source": [
    "for i in range(0, len(a)):\n",
    "    ab.append(a[i] * b[i])\n",
    "    \n",
    "ab"
   ]
  },
  {
   "cell_type": "code",
   "execution_count": 5,
   "id": "37101a9a-b88d-487c-a730-a52643ba511a",
   "metadata": {},
   "outputs": [],
   "source": [
    "import numpy as np"
   ]
  },
  {
   "cell_type": "code",
   "execution_count": 6,
   "id": "b67d5c71-428f-4221-a904-910716e369df",
   "metadata": {},
   "outputs": [],
   "source": [
    "a = np.array([1,2,3,4])\n",
    "b = np.array([0,2,4,8])"
   ]
  },
  {
   "cell_type": "code",
   "execution_count": 7,
   "id": "0fbc0349-522c-4f6b-ad19-122571a436bc",
   "metadata": {},
   "outputs": [
    {
     "data": {
      "text/plain": [
       "array([ 0,  4, 12, 32])"
      ]
     },
     "execution_count": 7,
     "metadata": {},
     "output_type": "execute_result"
    }
   ],
   "source": [
    "a*b"
   ]
  },
  {
   "cell_type": "markdown",
   "id": "25addd22-9d68-4593-8658-7bd5fd849ef3",
   "metadata": {},
   "source": [
    "while array takes four integer storage, numpy takes only one integer for four-elements array"
   ]
  },
  {
   "cell_type": "markdown",
   "id": "1294fff5-1824-4f61-b899-7f6735914b3b",
   "metadata": {},
   "source": [
    "## Creating numpy array"
   ]
  },
  {
   "cell_type": "code",
   "execution_count": 8,
   "id": "17e23383-6e49-49a9-a807-b210ec531cea",
   "metadata": {},
   "outputs": [
    {
     "data": {
      "text/plain": [
       "array([1, 2, 3, 4, 5])"
      ]
     },
     "execution_count": 8,
     "metadata": {},
     "output_type": "execute_result"
    }
   ],
   "source": [
    "np.array([1,2,3,4,5])"
   ]
  },
  {
   "cell_type": "code",
   "execution_count": 9,
   "id": "909e3699-39d1-42bd-a023-7892a54e4a78",
   "metadata": {},
   "outputs": [],
   "source": [
    "a = np.array([1,2,3,4,5])"
   ]
  },
  {
   "cell_type": "code",
   "execution_count": 10,
   "id": "3c1103cf-06a8-43ef-9e95-3482f689b153",
   "metadata": {},
   "outputs": [
    {
     "data": {
      "text/plain": [
       "numpy.ndarray"
      ]
     },
     "execution_count": 10,
     "metadata": {},
     "output_type": "execute_result"
    }
   ],
   "source": [
    "type(a)"
   ]
  },
  {
   "cell_type": "code",
   "execution_count": 11,
   "id": "d43120a6-c9fc-42e8-aa07-df271580a9e7",
   "metadata": {},
   "outputs": [
    {
     "data": {
      "text/plain": [
       "array([ 3.14,  4.  ,  2.  , 13.  ])"
      ]
     },
     "execution_count": 11,
     "metadata": {},
     "output_type": "execute_result"
    }
   ],
   "source": [
    "np.array([3.14, 4, 2, 13])"
   ]
  },
  {
   "cell_type": "markdown",
   "id": "ac988270-bf9e-4d14-9479-7996121822a8",
   "metadata": {},
   "source": [
    "as seen above, it transformed all the integers to decimal. \n",
    "But of course we can control that"
   ]
  },
  {
   "cell_type": "code",
   "execution_count": 12,
   "id": "e0872df3-b03a-4e6f-a969-5ec3399611f8",
   "metadata": {},
   "outputs": [
    {
     "data": {
      "text/plain": [
       "array([3.14, 2.  , 4.  , 8.  ], dtype=float32)"
      ]
     },
     "execution_count": 12,
     "metadata": {},
     "output_type": "execute_result"
    }
   ],
   "source": [
    "np.array([3.14, 2, 4, 8], dtype = \"float32\")"
   ]
  },
  {
   "cell_type": "code",
   "execution_count": 13,
   "id": "5092bfe4-86ea-4b9e-b319-3968777374f7",
   "metadata": {},
   "outputs": [
    {
     "data": {
      "text/plain": [
       "array([3, 2, 4, 8])"
      ]
     },
     "execution_count": 13,
     "metadata": {},
     "output_type": "execute_result"
    }
   ],
   "source": [
    "np.array([3.14, 2, 4, 8], dtype = \"int\")"
   ]
  },
  {
   "cell_type": "markdown",
   "id": "826fd18b-f5e4-44e1-b701-8cf818957d88",
   "metadata": {},
   "source": [
    "## Creating numpy array from zero"
   ]
  },
  {
   "cell_type": "code",
   "execution_count": 14,
   "id": "660cdb26-1bab-49f2-aa28-9018e0f6c293",
   "metadata": {},
   "outputs": [
    {
     "data": {
      "text/plain": [
       "array([0, 0, 0, 0, 0, 0, 0, 0, 0, 0])"
      ]
     },
     "execution_count": 14,
     "metadata": {},
     "output_type": "execute_result"
    }
   ],
   "source": [
    "np.zeros(10, dtype=\"int\")"
   ]
  },
  {
   "cell_type": "code",
   "execution_count": 15,
   "id": "b6762be9-f6c7-4b4b-81b3-6388b8530714",
   "metadata": {},
   "outputs": [
    {
     "data": {
      "text/plain": [
       "array([[1, 1, 1, 1, 1],\n",
       "       [1, 1, 1, 1, 1],\n",
       "       [1, 1, 1, 1, 1]])"
      ]
     },
     "execution_count": 15,
     "metadata": {},
     "output_type": "execute_result"
    }
   ],
   "source": [
    "np.ones((3,5), dtype=\"int\")"
   ]
  },
  {
   "cell_type": "code",
   "execution_count": 16,
   "id": "9ad9be6d-21c8-48cf-8d01-158d89e6bc68",
   "metadata": {},
   "outputs": [
    {
     "data": {
      "text/plain": [
       "array([[3, 3, 3, 3, 3],\n",
       "       [3, 3, 3, 3, 3],\n",
       "       [3, 3, 3, 3, 3]])"
      ]
     },
     "execution_count": 16,
     "metadata": {},
     "output_type": "execute_result"
    }
   ],
   "source": [
    "np.full((3,5), 3)"
   ]
  },
  {
   "cell_type": "code",
   "execution_count": 17,
   "id": "6b86f2a3-9849-4f1b-9b65-ecea7c880e86",
   "metadata": {},
   "outputs": [
    {
     "data": {
      "text/plain": [
       "array([ 0,  3,  6,  9, 12, 15, 18, 21, 24, 27, 30])"
      ]
     },
     "execution_count": 17,
     "metadata": {},
     "output_type": "execute_result"
    }
   ],
   "source": [
    "np.arange(0,31, 3)"
   ]
  },
  {
   "cell_type": "markdown",
   "id": "0c905b84-83d7-47e6-821a-92015ea0a07c",
   "metadata": {},
   "source": [
    "above code means create an array from 0 to 31 with multiples of 3"
   ]
  },
  {
   "cell_type": "code",
   "execution_count": 19,
   "id": "7511c080-1572-4f4f-ba7a-6c766d930cf4",
   "metadata": {},
   "outputs": [
    {
     "data": {
      "text/plain": [
       "array([0.        , 0.11111111, 0.22222222, 0.33333333, 0.44444444,\n",
       "       0.55555556, 0.66666667, 0.77777778, 0.88888889, 1.        ])"
      ]
     },
     "execution_count": 19,
     "metadata": {},
     "output_type": "execute_result"
    }
   ],
   "source": [
    "np.linspace(0,1, 10)"
   ]
  },
  {
   "cell_type": "code",
   "execution_count": 23,
   "id": "07dd42d6-fdb3-4e73-80cf-f2bca2876d06",
   "metadata": {},
   "outputs": [
    {
     "data": {
      "text/plain": [
       "array([ 1,  2,  3,  4,  5,  6,  7,  8,  9, 10])"
      ]
     },
     "execution_count": 23,
     "metadata": {},
     "output_type": "execute_result"
    }
   ],
   "source": [
    "np.linspace(1,10, 10, dtype=\"int\")"
   ]
  },
  {
   "cell_type": "markdown",
   "id": "4f5ae1bc-1a27-4407-b888-da2377d9f894",
   "metadata": {},
   "source": [
    "linspace means create an array with third parameter's number betweeen first two parameters "
   ]
  },
  {
   "cell_type": "code",
   "execution_count": 24,
   "id": "ca426f7a-8b03-4e51-bd17-a0c287464ca1",
   "metadata": {},
   "outputs": [
    {
     "data": {
      "text/plain": [
       "array([[17.50211246,  9.48173335,  8.02703288,  8.56351603],\n",
       "       [12.99337595, 15.50335723,  6.31299722, 10.72280993],\n",
       "       [ 7.67128863, 19.56349157,  9.15053423, 12.56140812]])"
      ]
     },
     "execution_count": 24,
     "metadata": {},
     "output_type": "execute_result"
    }
   ],
   "source": [
    "np.random.normal(10, 4, (3,4))  # average=10, standard deviation=4, array dimensions = (3,4)"
   ]
  },
  {
   "cell_type": "code",
   "execution_count": 27,
   "id": "e0b16ad6-bc41-49f9-9e5b-4a349ae84094",
   "metadata": {},
   "outputs": [
    {
     "data": {
      "text/plain": [
       "array([[8, 0, 8],\n",
       "       [2, 9, 0],\n",
       "       [9, 0, 9]])"
      ]
     },
     "execution_count": 27,
     "metadata": {},
     "output_type": "execute_result"
    }
   ],
   "source": [
    "np.random.randint(0,10, (3,3))  #from:0, to:10, dimension=(3,3)"
   ]
  },
  {
   "cell_type": "markdown",
   "id": "a259de9f-f401-4f82-9e49-8e95e0005b4f",
   "metadata": {},
   "source": [
    "## Features of Numpy:\n",
    "* **ndim**: number of dimension\n",
    "* **shape**: info of dimension\n",
    "* **size**: total element number\n",
    "* **dtype**: array data type\n"
   ]
  },
  {
   "cell_type": "code",
   "execution_count": 31,
   "id": "074df0c0-9947-4e4d-b214-77f50b8e3605",
   "metadata": {},
   "outputs": [
    {
     "data": {
      "text/plain": [
       "array([9, 6, 2, 3, 6, 4, 2, 6, 3, 6])"
      ]
     },
     "execution_count": 31,
     "metadata": {},
     "output_type": "execute_result"
    }
   ],
   "source": [
    "np.random.randint(10, size = 10)  # create an array with numbers less than 10 and with size of 10"
   ]
  },
  {
   "cell_type": "code",
   "execution_count": 32,
   "id": "712b68ca-5de6-4f2c-b689-c6077fb530ac",
   "metadata": {},
   "outputs": [],
   "source": [
    "a = np.random.randint(10, size = 10)"
   ]
  },
  {
   "cell_type": "code",
   "execution_count": 33,
   "id": "3f4b0c68-9153-4acf-9ac0-0c1cb4b35d41",
   "metadata": {},
   "outputs": [
    {
     "data": {
      "text/plain": [
       "1"
      ]
     },
     "execution_count": 33,
     "metadata": {},
     "output_type": "execute_result"
    }
   ],
   "source": [
    "a.ndim"
   ]
  },
  {
   "cell_type": "code",
   "execution_count": 34,
   "id": "d3d00e7f-ebf0-482e-93c2-5456889f86fa",
   "metadata": {},
   "outputs": [
    {
     "data": {
      "text/plain": [
       "(10,)"
      ]
     },
     "execution_count": 34,
     "metadata": {},
     "output_type": "execute_result"
    }
   ],
   "source": [
    "a.shape"
   ]
  },
  {
   "cell_type": "code",
   "execution_count": 35,
   "id": "96b9f460-7095-4fa6-a2e7-c55c8d909376",
   "metadata": {},
   "outputs": [
    {
     "data": {
      "text/plain": [
       "10"
      ]
     },
     "execution_count": 35,
     "metadata": {},
     "output_type": "execute_result"
    }
   ],
   "source": [
    "a.size"
   ]
  },
  {
   "cell_type": "code",
   "execution_count": 36,
   "id": "cfb5e503-d655-4c24-8588-54ccfffab550",
   "metadata": {},
   "outputs": [
    {
     "data": {
      "text/plain": [
       "dtype('int32')"
      ]
     },
     "execution_count": 36,
     "metadata": {},
     "output_type": "execute_result"
    }
   ],
   "source": [
    "a.dtype"
   ]
  },
  {
   "cell_type": "code",
   "execution_count": 37,
   "id": "bdb112b2-96fc-4d5b-b41f-a58639cf2684",
   "metadata": {},
   "outputs": [],
   "source": [
    "b = np.random.randint(10, size = (3,5))"
   ]
  },
  {
   "cell_type": "code",
   "execution_count": 38,
   "id": "7d05fd82-c40a-4d4b-81f6-1b2a375c1f3a",
   "metadata": {},
   "outputs": [
    {
     "data": {
      "text/plain": [
       "array([[9, 8, 4, 9, 4],\n",
       "       [4, 3, 2, 6, 2],\n",
       "       [8, 0, 8, 3, 4]])"
      ]
     },
     "execution_count": 38,
     "metadata": {},
     "output_type": "execute_result"
    }
   ],
   "source": [
    "b"
   ]
  },
  {
   "cell_type": "code",
   "execution_count": 39,
   "id": "f3c99382-1b87-4032-97f6-e81f02687149",
   "metadata": {},
   "outputs": [
    {
     "data": {
      "text/plain": [
       "2"
      ]
     },
     "execution_count": 39,
     "metadata": {},
     "output_type": "execute_result"
    }
   ],
   "source": [
    "b.ndim"
   ]
  },
  {
   "cell_type": "code",
   "execution_count": 40,
   "id": "ff6e3f42-3dd5-419d-a29f-ea7c442ee818",
   "metadata": {},
   "outputs": [
    {
     "data": {
      "text/plain": [
       "(3, 5)"
      ]
     },
     "execution_count": 40,
     "metadata": {},
     "output_type": "execute_result"
    }
   ],
   "source": [
    "b.shape"
   ]
  },
  {
   "cell_type": "code",
   "execution_count": 41,
   "id": "ce45610e-2246-4247-b74f-49b1eba02811",
   "metadata": {},
   "outputs": [
    {
     "data": {
      "text/plain": [
       "15"
      ]
     },
     "execution_count": 41,
     "metadata": {},
     "output_type": "execute_result"
    }
   ],
   "source": [
    "b.size"
   ]
  },
  {
   "cell_type": "code",
   "execution_count": 42,
   "id": "086c4d1a-b79d-448b-97b6-37afc4809809",
   "metadata": {},
   "outputs": [
    {
     "data": {
      "text/plain": [
       "dtype('int32')"
      ]
     },
     "execution_count": 42,
     "metadata": {},
     "output_type": "execute_result"
    }
   ],
   "source": [
    "b.dtype"
   ]
  },
  {
   "cell_type": "markdown",
   "id": "4c88eb30-a147-49d2-8262-cc26b32e1720",
   "metadata": {},
   "source": [
    "## Reshaping"
   ]
  },
  {
   "cell_type": "code",
   "execution_count": 43,
   "id": "74690fce-4a73-4a4b-831d-6e0eeddb8384",
   "metadata": {},
   "outputs": [
    {
     "data": {
      "text/plain": [
       "array([1, 2, 3, 4, 5, 6, 7, 8, 9])"
      ]
     },
     "execution_count": 43,
     "metadata": {},
     "output_type": "execute_result"
    }
   ],
   "source": [
    "np.arange(1,10)"
   ]
  },
  {
   "cell_type": "code",
   "execution_count": 44,
   "id": "a91d58c2-ff69-4c03-91e8-1760903a8dff",
   "metadata": {},
   "outputs": [
    {
     "data": {
      "text/plain": [
       "array([[1, 2, 3],\n",
       "       [4, 5, 6],\n",
       "       [7, 8, 9]])"
      ]
     },
     "execution_count": 44,
     "metadata": {},
     "output_type": "execute_result"
    }
   ],
   "source": [
    "np.arange(1,10).reshape((3,3))"
   ]
  },
  {
   "cell_type": "code",
   "execution_count": 45,
   "id": "b423aef0-36ba-46da-ad81-3aff8fe00e23",
   "metadata": {},
   "outputs": [],
   "source": [
    "a = np.arange(1,10)"
   ]
  },
  {
   "cell_type": "code",
   "execution_count": 46,
   "id": "57a7f878-2e95-49a6-8680-803802cdd54e",
   "metadata": {},
   "outputs": [
    {
     "data": {
      "text/plain": [
       "array([1, 2, 3, 4, 5, 6, 7, 8, 9])"
      ]
     },
     "execution_count": 46,
     "metadata": {},
     "output_type": "execute_result"
    }
   ],
   "source": [
    "a"
   ]
  },
  {
   "cell_type": "code",
   "execution_count": 47,
   "id": "c8c1aef1-c95e-4707-96af-1601962e5f1c",
   "metadata": {},
   "outputs": [
    {
     "data": {
      "text/plain": [
       "1"
      ]
     },
     "execution_count": 47,
     "metadata": {},
     "output_type": "execute_result"
    }
   ],
   "source": [
    "a.ndim"
   ]
  },
  {
   "cell_type": "code",
   "execution_count": 49,
   "id": "e36d4826-cb0f-491b-93bc-66c0e6a95ac4",
   "metadata": {},
   "outputs": [],
   "source": [
    "b = a.reshape((1,9))"
   ]
  },
  {
   "cell_type": "code",
   "execution_count": 50,
   "id": "76198859-2401-4c68-afec-e49ef67408eb",
   "metadata": {},
   "outputs": [
    {
     "data": {
      "text/plain": [
       "array([[1, 2, 3, 4, 5, 6, 7, 8, 9]])"
      ]
     },
     "execution_count": 50,
     "metadata": {},
     "output_type": "execute_result"
    }
   ],
   "source": [
    "b"
   ]
  },
  {
   "cell_type": "code",
   "execution_count": 51,
   "id": "7bbfb78d-4f63-4afe-b6a5-7f289489c070",
   "metadata": {},
   "outputs": [
    {
     "data": {
      "text/plain": [
       "2"
      ]
     },
     "execution_count": 51,
     "metadata": {},
     "output_type": "execute_result"
    }
   ],
   "source": [
    "b.ndim"
   ]
  },
  {
   "cell_type": "markdown",
   "id": "0974c77d-0db0-4941-8860-873569b1fdc8",
   "metadata": {},
   "source": [
    "as seen above, I reshaped one dim array to two dim array with .reshape()"
   ]
  },
  {
   "cell_type": "markdown",
   "id": "6210a9aa-a799-4f33-bf69-a83d22438713",
   "metadata": {},
   "source": [
    "## Concatenation"
   ]
  },
  {
   "cell_type": "code",
   "execution_count": 52,
   "id": "d5ab7861-8bda-4648-ac62-4d00458aaa51",
   "metadata": {},
   "outputs": [],
   "source": [
    "x = np.array([1,2,3])\n",
    "y = np.array([4,5,6])"
   ]
  },
  {
   "cell_type": "code",
   "execution_count": 53,
   "id": "f3725fe8-7eaa-4539-ae27-b9400ab5188d",
   "metadata": {},
   "outputs": [
    {
     "data": {
      "text/plain": [
       "array([1, 2, 3, 4, 5, 6])"
      ]
     },
     "execution_count": 53,
     "metadata": {},
     "output_type": "execute_result"
    }
   ],
   "source": [
    "np.concatenate([x,y])"
   ]
  },
  {
   "cell_type": "code",
   "execution_count": 54,
   "id": "a80870a0-1d23-41ae-a944-a04b4661b33e",
   "metadata": {},
   "outputs": [],
   "source": [
    "z = np.array([7,8,9])"
   ]
  },
  {
   "cell_type": "code",
   "execution_count": 55,
   "id": "57f0f8eb-cf7a-4fb9-8d14-4c1275053e6e",
   "metadata": {},
   "outputs": [
    {
     "data": {
      "text/plain": [
       "array([1, 2, 3, 4, 5, 6, 7, 8, 9])"
      ]
     },
     "execution_count": 55,
     "metadata": {},
     "output_type": "execute_result"
    }
   ],
   "source": [
    "np.concatenate([x,y,z])"
   ]
  },
  {
   "cell_type": "markdown",
   "id": "7b27f539-ac16-4dce-93ec-78560772a28a",
   "metadata": {},
   "source": [
    "### two dimension concatenation"
   ]
  },
  {
   "cell_type": "code",
   "execution_count": 56,
   "id": "26e91871-957f-4eb3-a18a-46bbf0f68eba",
   "metadata": {},
   "outputs": [],
   "source": [
    "a = np.array([[1,2,3],\n",
    "            [4,5,6]])"
   ]
  },
  {
   "cell_type": "code",
   "execution_count": 57,
   "id": "a01b0079-1530-4119-9be3-127e1b00f749",
   "metadata": {},
   "outputs": [
    {
     "data": {
      "text/plain": [
       "array([[1, 2, 3],\n",
       "       [4, 5, 6],\n",
       "       [1, 2, 3],\n",
       "       [4, 5, 6]])"
      ]
     },
     "execution_count": 57,
     "metadata": {},
     "output_type": "execute_result"
    }
   ],
   "source": [
    "np.concatenate([a,a])"
   ]
  },
  {
   "cell_type": "code",
   "execution_count": 59,
   "id": "31c5bde0-fadf-4b20-aa37-eacbb6dfe448",
   "metadata": {},
   "outputs": [
    {
     "data": {
      "text/plain": [
       "array([[1, 2, 3],\n",
       "       [4, 5, 6],\n",
       "       [1, 2, 3],\n",
       "       [4, 5, 6]])"
      ]
     },
     "execution_count": 59,
     "metadata": {},
     "output_type": "execute_result"
    }
   ],
   "source": [
    "np.concatenate([a,a], axis=0)  "
   ]
  },
  {
   "cell_type": "code",
   "execution_count": 60,
   "id": "da98e24a-2848-441b-a719-106ca3e3decf",
   "metadata": {},
   "outputs": [
    {
     "data": {
      "text/plain": [
       "array([[1, 2, 3, 1, 2, 3],\n",
       "       [4, 5, 6, 4, 5, 6]])"
      ]
     },
     "execution_count": 60,
     "metadata": {},
     "output_type": "execute_result"
    }
   ],
   "source": [
    "np.concatenate([a,a], axis=1)  "
   ]
  },
  {
   "cell_type": "markdown",
   "id": "6e1ba58a-977a-4c5b-92b2-13f04956bc13",
   "metadata": {},
   "source": [
    "## Splitting"
   ]
  },
  {
   "cell_type": "code",
   "execution_count": 62,
   "id": "09755ecc-e5e1-4a93-9055-5a697a908214",
   "metadata": {},
   "outputs": [],
   "source": [
    "x = np.array([1,2,3,99,99,3,2,1])"
   ]
  },
  {
   "cell_type": "code",
   "execution_count": 63,
   "id": "d760c01d-f276-4f4e-8aa1-20b4f1af9d89",
   "metadata": {},
   "outputs": [
    {
     "data": {
      "text/plain": [
       "[array([1, 2, 3]), array([99, 99]), array([3, 2, 1])]"
      ]
     },
     "execution_count": 63,
     "metadata": {},
     "output_type": "execute_result"
    }
   ],
   "source": [
    "np.split(x, [3,5])"
   ]
  },
  {
   "cell_type": "code",
   "execution_count": 64,
   "id": "8ef65629-64a3-4c0e-9e49-a2116660f305",
   "metadata": {},
   "outputs": [
    {
     "data": {
      "text/plain": [
       "[array([1, 2, 3]), array([99]), array([99,  3,  2,  1])]"
      ]
     },
     "execution_count": 64,
     "metadata": {},
     "output_type": "execute_result"
    }
   ],
   "source": [
    "np.split(x, [3,4])"
   ]
  },
  {
   "cell_type": "code",
   "execution_count": 65,
   "id": "3bd3f683-8cdf-4c51-a0a3-87af0f62aa50",
   "metadata": {},
   "outputs": [
    {
     "data": {
      "text/plain": [
       "[array([], dtype=int32), array([1, 2, 3]), array([99, 99,  3,  2,  1])]"
      ]
     },
     "execution_count": 65,
     "metadata": {},
     "output_type": "execute_result"
    }
   ],
   "source": [
    "np.split(x, [0,3])"
   ]
  },
  {
   "cell_type": "code",
   "execution_count": 66,
   "id": "582903f0-8d08-4e30-9208-0bf0f4b5f92d",
   "metadata": {},
   "outputs": [],
   "source": [
    "a,b,c = np.split(x, [3,5])"
   ]
  },
  {
   "cell_type": "code",
   "execution_count": 67,
   "id": "38212fec-0062-4014-9e57-14d60154304d",
   "metadata": {},
   "outputs": [
    {
     "data": {
      "text/plain": [
       "array([1, 2, 3])"
      ]
     },
     "execution_count": 67,
     "metadata": {},
     "output_type": "execute_result"
    }
   ],
   "source": [
    "a"
   ]
  },
  {
   "cell_type": "code",
   "execution_count": 68,
   "id": "39eb4f8f-1fe4-4fec-8c71-191a119db961",
   "metadata": {},
   "outputs": [
    {
     "data": {
      "text/plain": [
       "array([99, 99])"
      ]
     },
     "execution_count": 68,
     "metadata": {},
     "output_type": "execute_result"
    }
   ],
   "source": [
    "b"
   ]
  },
  {
   "cell_type": "code",
   "execution_count": 69,
   "id": "86ed436c-9fa1-4d32-abe0-b3d1fe663831",
   "metadata": {},
   "outputs": [
    {
     "data": {
      "text/plain": [
       "array([3, 2, 1])"
      ]
     },
     "execution_count": 69,
     "metadata": {},
     "output_type": "execute_result"
    }
   ],
   "source": [
    "c"
   ]
  },
  {
   "cell_type": "markdown",
   "id": "6776e91f-58fe-45fb-8cf5-289edab8076d",
   "metadata": {},
   "source": [
    "### two Dimension Splitting"
   ]
  },
  {
   "cell_type": "code",
   "execution_count": 70,
   "id": "f276e2fd-b3d1-4417-a238-ae97d0d6dcba",
   "metadata": {},
   "outputs": [
    {
     "data": {
      "text/plain": [
       "array([[ 0,  1,  2,  3],\n",
       "       [ 4,  5,  6,  7],\n",
       "       [ 8,  9, 10, 11],\n",
       "       [12, 13, 14, 15]])"
      ]
     },
     "execution_count": 70,
     "metadata": {},
     "output_type": "execute_result"
    }
   ],
   "source": [
    "m = np.arange(16).reshape(4,4)\n",
    "m"
   ]
  },
  {
   "cell_type": "code",
   "execution_count": 73,
   "id": "daf2e579-7f82-48ae-a4d5-805db7f91640",
   "metadata": {},
   "outputs": [
    {
     "data": {
      "text/plain": [
       "[array([[0, 1, 2, 3],\n",
       "        [4, 5, 6, 7]]),\n",
       " array([[ 8,  9, 10, 11],\n",
       "        [12, 13, 14, 15]])]"
      ]
     },
     "execution_count": 73,
     "metadata": {},
     "output_type": "execute_result"
    }
   ],
   "source": [
    "np.vsplit(m, [2])  # split until 2nd index which is -> [8,9,10,11]"
   ]
  },
  {
   "cell_type": "code",
   "execution_count": 72,
   "id": "3c9c238b-1fa5-4119-91be-f2a7bfe5459e",
   "metadata": {},
   "outputs": [
    {
     "data": {
      "text/plain": [
       "[array([], shape=(0, 4), dtype=int32),\n",
       " array([[0, 1, 2, 3],\n",
       "        [4, 5, 6, 7]]),\n",
       " array([[ 8,  9, 10, 11],\n",
       "        [12, 13, 14, 15]])]"
      ]
     },
     "execution_count": 72,
     "metadata": {},
     "output_type": "execute_result"
    }
   ],
   "source": [
    "np.vsplit(m, [0,2])"
   ]
  },
  {
   "cell_type": "code",
   "execution_count": 74,
   "id": "ca958eb6-cd99-4c0a-b431-30c37afa6b4b",
   "metadata": {},
   "outputs": [],
   "source": [
    "first, second = np.vsplit(m, [2])"
   ]
  },
  {
   "cell_type": "code",
   "execution_count": 75,
   "id": "30f14e37-827d-4309-879e-b948a15ad8fb",
   "metadata": {},
   "outputs": [
    {
     "data": {
      "text/plain": [
       "array([[0, 1, 2, 3],\n",
       "       [4, 5, 6, 7]])"
      ]
     },
     "execution_count": 75,
     "metadata": {},
     "output_type": "execute_result"
    }
   ],
   "source": [
    "first"
   ]
  },
  {
   "cell_type": "code",
   "execution_count": 76,
   "id": "2adc9a32-dabe-4b51-bcce-3bcccadcdd49",
   "metadata": {},
   "outputs": [
    {
     "data": {
      "text/plain": [
       "array([[ 8,  9, 10, 11],\n",
       "       [12, 13, 14, 15]])"
      ]
     },
     "execution_count": 76,
     "metadata": {},
     "output_type": "execute_result"
    }
   ],
   "source": [
    "second"
   ]
  },
  {
   "cell_type": "markdown",
   "id": "18c4febc-9b76-48d6-88a2-3df3ce765d21",
   "metadata": {},
   "source": [
    "vsplit splits vertically and there is another split methot hsplit which splits horizontally"
   ]
  },
  {
   "cell_type": "code",
   "execution_count": 77,
   "id": "795a35b2-2743-42ad-9f1c-0a4e714cb616",
   "metadata": {},
   "outputs": [
    {
     "data": {
      "text/plain": [
       "array([[ 0,  1,  2,  3],\n",
       "       [ 4,  5,  6,  7],\n",
       "       [ 8,  9, 10, 11],\n",
       "       [12, 13, 14, 15]])"
      ]
     },
     "execution_count": 77,
     "metadata": {},
     "output_type": "execute_result"
    }
   ],
   "source": [
    "m"
   ]
  },
  {
   "cell_type": "code",
   "execution_count": 78,
   "id": "cfa14924-a0dd-4ff6-a989-0c3602c79274",
   "metadata": {},
   "outputs": [
    {
     "data": {
      "text/plain": [
       "[array([[ 0,  1],\n",
       "        [ 4,  5],\n",
       "        [ 8,  9],\n",
       "        [12, 13]]),\n",
       " array([[ 2,  3],\n",
       "        [ 6,  7],\n",
       "        [10, 11],\n",
       "        [14, 15]])]"
      ]
     },
     "execution_count": 78,
     "metadata": {},
     "output_type": "execute_result"
    }
   ],
   "source": [
    "np.hsplit(m, [2])"
   ]
  },
  {
   "cell_type": "code",
   "execution_count": 79,
   "id": "5bf55929-8f08-4f4c-803b-7f51ea8eae89",
   "metadata": {},
   "outputs": [],
   "source": [
    "left, right = np.hsplit(m, [2])"
   ]
  },
  {
   "cell_type": "code",
   "execution_count": 80,
   "id": "c111459b-e288-4362-af5d-2c7f856e0717",
   "metadata": {},
   "outputs": [
    {
     "data": {
      "text/plain": [
       "array([[ 0,  1],\n",
       "       [ 4,  5],\n",
       "       [ 8,  9],\n",
       "       [12, 13]])"
      ]
     },
     "execution_count": 80,
     "metadata": {},
     "output_type": "execute_result"
    }
   ],
   "source": [
    "left"
   ]
  },
  {
   "cell_type": "code",
   "execution_count": 81,
   "id": "2b9cfd9c-be0f-4018-9765-bdd1f708f038",
   "metadata": {},
   "outputs": [
    {
     "data": {
      "text/plain": [
       "array([[ 2,  3],\n",
       "       [ 6,  7],\n",
       "       [10, 11],\n",
       "       [14, 15]])"
      ]
     },
     "execution_count": 81,
     "metadata": {},
     "output_type": "execute_result"
    }
   ],
   "source": [
    "right"
   ]
  },
  {
   "cell_type": "markdown",
   "id": "f5aa3e7a-f4f2-4b91-b735-fe56d7f92925",
   "metadata": {},
   "source": [
    "## Sorting"
   ]
  },
  {
   "cell_type": "code",
   "execution_count": 82,
   "id": "6b350875-5131-44f6-934f-1d6e3d392698",
   "metadata": {},
   "outputs": [],
   "source": [
    "import numpy as np"
   ]
  },
  {
   "cell_type": "code",
   "execution_count": 83,
   "id": "3de6fac4-2677-41db-a7a1-8a8d3a80583d",
   "metadata": {},
   "outputs": [],
   "source": [
    "v = np.array([2,1,4,3,5])"
   ]
  },
  {
   "cell_type": "code",
   "execution_count": 84,
   "id": "84381f74-8c46-4a29-8f01-593616951dbd",
   "metadata": {},
   "outputs": [
    {
     "data": {
      "text/plain": [
       "array([2, 1, 4, 3, 5])"
      ]
     },
     "execution_count": 84,
     "metadata": {},
     "output_type": "execute_result"
    }
   ],
   "source": [
    "v"
   ]
  },
  {
   "cell_type": "code",
   "execution_count": 85,
   "id": "e88f7444-f582-4b68-80c9-4ebc4bb5b4cd",
   "metadata": {},
   "outputs": [
    {
     "data": {
      "text/plain": [
       "array([1, 2, 3, 4, 5])"
      ]
     },
     "execution_count": 85,
     "metadata": {},
     "output_type": "execute_result"
    }
   ],
   "source": [
    "np.sort(v)"
   ]
  },
  {
   "cell_type": "code",
   "execution_count": 86,
   "id": "3a52ca3c-25a7-4632-8c0d-11b445d75e7d",
   "metadata": {},
   "outputs": [
    {
     "data": {
      "text/plain": [
       "array([2, 1, 4, 3, 5])"
      ]
     },
     "execution_count": 86,
     "metadata": {},
     "output_type": "execute_result"
    }
   ],
   "source": [
    "v"
   ]
  },
  {
   "cell_type": "code",
   "execution_count": 87,
   "id": "7596615d-c6cc-429a-bb69-9ab6384f96c2",
   "metadata": {},
   "outputs": [],
   "source": [
    "v.sort()"
   ]
  },
  {
   "cell_type": "code",
   "execution_count": 88,
   "id": "46a8a15f-b325-48d5-9119-b0d095f7355b",
   "metadata": {},
   "outputs": [
    {
     "data": {
      "text/plain": [
       "array([1, 2, 3, 4, 5])"
      ]
     },
     "execution_count": 88,
     "metadata": {},
     "output_type": "execute_result"
    }
   ],
   "source": [
    "v"
   ]
  },
  {
   "cell_type": "markdown",
   "id": "93f25e27-cd20-45e8-8693-de220e74848d",
   "metadata": {},
   "source": [
    "numpy's sort method did not change original version of array, but .sort() method did"
   ]
  },
  {
   "cell_type": "markdown",
   "id": "6288f72b-1425-4035-abb8-a3f3400f5166",
   "metadata": {},
   "source": [
    "## two dimensional array sorting"
   ]
  },
  {
   "cell_type": "code",
   "execution_count": 92,
   "id": "f3bd236e-23d8-4c8e-b1aa-de0a2107bf32",
   "metadata": {},
   "outputs": [],
   "source": [
    "m = np.random.normal(20, 5, (3,3))"
   ]
  },
  {
   "cell_type": "code",
   "execution_count": 93,
   "id": "4b237c63-f647-4a1d-b975-d8bd26330cf2",
   "metadata": {},
   "outputs": [
    {
     "data": {
      "text/plain": [
       "array([[15.61186382, 20.90614682, 18.78218077],\n",
       "       [20.72618618, 20.18336219, 18.17274873],\n",
       "       [12.91467867, 19.88707149, 18.16020955]])"
      ]
     },
     "execution_count": 93,
     "metadata": {},
     "output_type": "execute_result"
    }
   ],
   "source": [
    "m"
   ]
  },
  {
   "cell_type": "code",
   "execution_count": 94,
   "id": "ab8ebb56-1987-462e-939a-858764804d45",
   "metadata": {},
   "outputs": [
    {
     "data": {
      "text/plain": [
       "array([[15.61186382, 18.78218077, 20.90614682],\n",
       "       [18.17274873, 20.18336219, 20.72618618],\n",
       "       [12.91467867, 18.16020955, 19.88707149]])"
      ]
     },
     "execution_count": 94,
     "metadata": {},
     "output_type": "execute_result"
    }
   ],
   "source": [
    "np.sort(m, axis=1)"
   ]
  },
  {
   "cell_type": "code",
   "execution_count": 95,
   "id": "90cec57f-1794-4ff6-afe7-24af707d750b",
   "metadata": {},
   "outputs": [
    {
     "data": {
      "text/plain": [
       "array([[12.91467867, 19.88707149, 18.16020955],\n",
       "       [15.61186382, 20.18336219, 18.17274873],\n",
       "       [20.72618618, 20.90614682, 18.78218077]])"
      ]
     },
     "execution_count": 95,
     "metadata": {},
     "output_type": "execute_result"
    }
   ],
   "source": [
    "np.sort(m, axis=0)"
   ]
  },
  {
   "cell_type": "markdown",
   "id": "b7129054-4daf-41bd-bd0c-08933a1f955e",
   "metadata": {},
   "source": [
    "when axis=1 it sorts rows, and when axis=0 it sorts columns"
   ]
  },
  {
   "cell_type": "markdown",
   "id": "01d652e1-3042-4776-b1de-3716d56adf8e",
   "metadata": {},
   "source": [
    "## Accessing elements with indexes"
   ]
  },
  {
   "cell_type": "code",
   "execution_count": 96,
   "id": "4cf92f0d-7325-4572-90bc-7e6f546b2779",
   "metadata": {},
   "outputs": [
    {
     "data": {
      "text/plain": [
       "array([4, 8, 1, 6, 8, 5, 7, 9, 3, 6])"
      ]
     },
     "execution_count": 96,
     "metadata": {},
     "output_type": "execute_result"
    }
   ],
   "source": [
    "import numpy as np\n",
    "a = np.random.randint(10, size=10)\n",
    "a"
   ]
  },
  {
   "cell_type": "code",
   "execution_count": 97,
   "id": "d4cc4842-b188-4b8a-9366-62d3f098199c",
   "metadata": {},
   "outputs": [
    {
     "data": {
      "text/plain": [
       "4"
      ]
     },
     "execution_count": 97,
     "metadata": {},
     "output_type": "execute_result"
    }
   ],
   "source": [
    "a[0]"
   ]
  },
  {
   "cell_type": "code",
   "execution_count": 98,
   "id": "4a2c8478-cd1e-4bec-957d-6431589bc1b9",
   "metadata": {},
   "outputs": [
    {
     "data": {
      "text/plain": [
       "6"
      ]
     },
     "execution_count": 98,
     "metadata": {},
     "output_type": "execute_result"
    }
   ],
   "source": [
    "a[-1]"
   ]
  },
  {
   "cell_type": "code",
   "execution_count": 99,
   "id": "05b850d7-4643-46dc-9aa4-afb6af60f578",
   "metadata": {},
   "outputs": [
    {
     "data": {
      "text/plain": [
       "3"
      ]
     },
     "execution_count": 99,
     "metadata": {},
     "output_type": "execute_result"
    }
   ],
   "source": [
    "a[-2]"
   ]
  },
  {
   "cell_type": "code",
   "execution_count": 100,
   "id": "5af9acca-232f-4969-8ec1-602e99797ecf",
   "metadata": {},
   "outputs": [],
   "source": [
    "a[0] = 100"
   ]
  },
  {
   "cell_type": "code",
   "execution_count": 101,
   "id": "c0584bd5-ec98-4934-aba6-bccb6505011c",
   "metadata": {},
   "outputs": [
    {
     "data": {
      "text/plain": [
       "array([100,   8,   1,   6,   8,   5,   7,   9,   3,   6])"
      ]
     },
     "execution_count": 101,
     "metadata": {},
     "output_type": "execute_result"
    }
   ],
   "source": [
    "a"
   ]
  },
  {
   "cell_type": "code",
   "execution_count": 105,
   "id": "149e41fd-dad5-4605-bd11-ea881e524ca3",
   "metadata": {},
   "outputs": [
    {
     "data": {
      "text/plain": [
       "array([[8, 0, 6, 9, 5],\n",
       "       [4, 5, 9, 1, 1],\n",
       "       [7, 2, 2, 4, 0]])"
      ]
     },
     "execution_count": 105,
     "metadata": {},
     "output_type": "execute_result"
    }
   ],
   "source": [
    "m = np.random.randint(10, size = (3,5))\n",
    "m"
   ]
  },
  {
   "cell_type": "code",
   "execution_count": 106,
   "id": "d8d59d47-df4a-4780-a45b-5aa808cdff03",
   "metadata": {},
   "outputs": [
    {
     "data": {
      "text/plain": [
       "8"
      ]
     },
     "execution_count": 106,
     "metadata": {},
     "output_type": "execute_result"
    }
   ],
   "source": [
    "m[0,0]"
   ]
  },
  {
   "cell_type": "code",
   "execution_count": 107,
   "id": "37273ae0-6211-4cf4-9b2d-46d4265cadac",
   "metadata": {},
   "outputs": [
    {
     "data": {
      "text/plain": [
       "5"
      ]
     },
     "execution_count": 107,
     "metadata": {},
     "output_type": "execute_result"
    }
   ],
   "source": [
    "m[1,1]"
   ]
  },
  {
   "cell_type": "code",
   "execution_count": 108,
   "id": "dec83c47-3f6e-4c25-a5c7-56b23567c06b",
   "metadata": {},
   "outputs": [
    {
     "data": {
      "text/plain": [
       "1"
      ]
     },
     "execution_count": 108,
     "metadata": {},
     "output_type": "execute_result"
    }
   ],
   "source": [
    "m[1, -1]"
   ]
  },
  {
   "cell_type": "code",
   "execution_count": 109,
   "id": "0bc3474c-4fe0-4466-ba8f-c76fb6b6aa80",
   "metadata": {},
   "outputs": [
    {
     "data": {
      "text/plain": [
       "1"
      ]
     },
     "execution_count": 109,
     "metadata": {},
     "output_type": "execute_result"
    }
   ],
   "source": [
    "m[1,4]"
   ]
  },
  {
   "cell_type": "code",
   "execution_count": 110,
   "id": "f6af07d7-6a7a-4f4d-ac7c-38ec123547a0",
   "metadata": {},
   "outputs": [],
   "source": [
    "m[1, -1] = 99"
   ]
  },
  {
   "cell_type": "code",
   "execution_count": 111,
   "id": "d9d9b2ab-e42a-4286-86b6-406021da6f36",
   "metadata": {},
   "outputs": [
    {
     "data": {
      "text/plain": [
       "array([[ 8,  0,  6,  9,  5],\n",
       "       [ 4,  5,  9,  1, 99],\n",
       "       [ 7,  2,  2,  4,  0]])"
      ]
     },
     "execution_count": 111,
     "metadata": {},
     "output_type": "execute_result"
    }
   ],
   "source": [
    "m"
   ]
  },
  {
   "cell_type": "code",
   "execution_count": 114,
   "id": "ef02e4bf-8a98-421b-9822-16df774e178b",
   "metadata": {},
   "outputs": [],
   "source": [
    "m[1, -1] = 55.5  # this operation will not change the type of whole array so it will stay as integer matrix"
   ]
  },
  {
   "cell_type": "code",
   "execution_count": 115,
   "id": "0dd9ed8b-453c-463f-aa65-b3265e3a4a3a",
   "metadata": {},
   "outputs": [
    {
     "data": {
      "text/plain": [
       "array([[ 8,  0,  6,  9,  5],\n",
       "       [ 4,  5,  9,  1, 55],\n",
       "       [ 7,  2,  2,  4,  0]])"
      ]
     },
     "execution_count": 115,
     "metadata": {},
     "output_type": "execute_result"
    }
   ],
   "source": [
    "m"
   ]
  },
  {
   "cell_type": "markdown",
   "id": "26385b55-2210-401f-b455-72bd48b64f10",
   "metadata": {},
   "source": [
    "## Slicing"
   ]
  },
  {
   "cell_type": "code",
   "execution_count": 116,
   "id": "e7e6f981-5097-47cc-86ad-b1f8dcbdc7a2",
   "metadata": {},
   "outputs": [],
   "source": [
    "import numpy as np"
   ]
  },
  {
   "cell_type": "code",
   "execution_count": 117,
   "id": "f42dbdb2-c219-45f0-81fa-f74cd61e82cf",
   "metadata": {},
   "outputs": [
    {
     "data": {
      "text/plain": [
       "array([20, 21, 22, 23, 24, 25, 26, 27, 28, 29])"
      ]
     },
     "execution_count": 117,
     "metadata": {},
     "output_type": "execute_result"
    }
   ],
   "source": [
    "a = np.arange(20,30)\n",
    "a"
   ]
  },
  {
   "cell_type": "code",
   "execution_count": 118,
   "id": "d2f8daf4-1040-481c-b798-1ab47075b80a",
   "metadata": {},
   "outputs": [
    {
     "data": {
      "text/plain": [
       "array([20, 21, 22])"
      ]
     },
     "execution_count": 118,
     "metadata": {},
     "output_type": "execute_result"
    }
   ],
   "source": [
    "a[0:3]"
   ]
  },
  {
   "cell_type": "code",
   "execution_count": 119,
   "id": "579138b0-403a-43cc-986f-48df7ad2ffee",
   "metadata": {},
   "outputs": [
    {
     "data": {
      "text/plain": [
       "array([20, 21, 22])"
      ]
     },
     "execution_count": 119,
     "metadata": {},
     "output_type": "execute_result"
    }
   ],
   "source": [
    "a[:3]"
   ]
  },
  {
   "cell_type": "code",
   "execution_count": 120,
   "id": "a338aa8d-440e-492d-8d53-4c870d56be2f",
   "metadata": {},
   "outputs": [
    {
     "data": {
      "text/plain": [
       "array([23, 24, 25, 26, 27, 28, 29])"
      ]
     },
     "execution_count": 120,
     "metadata": {},
     "output_type": "execute_result"
    }
   ],
   "source": [
    "a[3:]"
   ]
  },
  {
   "cell_type": "code",
   "execution_count": 123,
   "id": "351c237c-4511-4803-ba74-39a4b2c67fdd",
   "metadata": {},
   "outputs": [
    {
     "data": {
      "text/plain": [
       "array([20, 22, 24, 26, 28])"
      ]
     },
     "execution_count": 123,
     "metadata": {},
     "output_type": "execute_result"
    }
   ],
   "source": [
    "a[0::2]  # that means start from 0st index and go 2step "
   ]
  },
  {
   "cell_type": "code",
   "execution_count": 124,
   "id": "6e0498e5-dfa2-4573-8f97-eebc552d0148",
   "metadata": {},
   "outputs": [
    {
     "data": {
      "text/plain": [
       "array([22, 24, 26, 28])"
      ]
     },
     "execution_count": 124,
     "metadata": {},
     "output_type": "execute_result"
    }
   ],
   "source": [
    "a[2::2]"
   ]
  },
  {
   "cell_type": "code",
   "execution_count": 125,
   "id": "31b7cf1e-afc0-4e43-a389-57710fd46a06",
   "metadata": {},
   "outputs": [
    {
     "data": {
      "text/plain": [
       "array([20, 23, 26, 29])"
      ]
     },
     "execution_count": 125,
     "metadata": {},
     "output_type": "execute_result"
    }
   ],
   "source": [
    "a[0::3]"
   ]
  },
  {
   "cell_type": "markdown",
   "id": "91db6e6f-8c3a-4dcc-9b19-75341ce33f90",
   "metadata": {},
   "source": [
    "### two dimensional slicing "
   ]
  },
  {
   "cell_type": "code",
   "execution_count": 126,
   "id": "288b27c3-1599-4a72-8fa4-29844e3705d6",
   "metadata": {},
   "outputs": [],
   "source": [
    "m = np.random.randint(10, size = (5,5))"
   ]
  },
  {
   "cell_type": "code",
   "execution_count": 127,
   "id": "2a93d62a-a998-4ea5-af38-f768b8883d8a",
   "metadata": {},
   "outputs": [
    {
     "data": {
      "text/plain": [
       "array([[9, 9, 3, 7, 4],\n",
       "       [8, 7, 5, 9, 0],\n",
       "       [0, 6, 7, 8, 7],\n",
       "       [7, 9, 3, 6, 5],\n",
       "       [6, 0, 8, 4, 8]])"
      ]
     },
     "execution_count": 127,
     "metadata": {},
     "output_type": "execute_result"
    }
   ],
   "source": [
    "m"
   ]
  },
  {
   "cell_type": "code",
   "execution_count": 133,
   "id": "5b3d8a46-49e8-4576-a2b2-83d71954a1e4",
   "metadata": {},
   "outputs": [
    {
     "data": {
      "text/plain": [
       "array([9, 8, 0, 7, 6])"
      ]
     },
     "execution_count": 133,
     "metadata": {},
     "output_type": "execute_result"
    }
   ],
   "source": [
    "m[:,0]  ## : means all rows"
   ]
  },
  {
   "cell_type": "code",
   "execution_count": 134,
   "id": "307cace3-9293-4090-ab02-e1b2de1a0c48",
   "metadata": {},
   "outputs": [
    {
     "data": {
      "text/plain": [
       "array([9, 7, 6, 9, 0])"
      ]
     },
     "execution_count": 134,
     "metadata": {},
     "output_type": "execute_result"
    }
   ],
   "source": [
    "m[:,1]"
   ]
  },
  {
   "cell_type": "code",
   "execution_count": 135,
   "id": "5219f5f0-5fa7-41fd-9aec-d37c2fad17c3",
   "metadata": {},
   "outputs": [
    {
     "data": {
      "text/plain": [
       "array([4, 0, 7, 5, 8])"
      ]
     },
     "execution_count": 135,
     "metadata": {},
     "output_type": "execute_result"
    }
   ],
   "source": [
    "m[:,-1]"
   ]
  },
  {
   "cell_type": "code",
   "execution_count": 137,
   "id": "6e10d662-2cff-41c9-a3a9-d616c25e1549",
   "metadata": {},
   "outputs": [
    {
     "data": {
      "text/plain": [
       "array([[9, 9, 3, 7, 4],\n",
       "       [8, 7, 5, 9, 0],\n",
       "       [0, 6, 7, 8, 7],\n",
       "       [7, 9, 3, 6, 5],\n",
       "       [6, 0, 8, 4, 8]])"
      ]
     },
     "execution_count": 137,
     "metadata": {},
     "output_type": "execute_result"
    }
   ],
   "source": [
    "m"
   ]
  },
  {
   "cell_type": "code",
   "execution_count": 138,
   "id": "29702d32-0963-4c3d-88a9-54c633b65aba",
   "metadata": {},
   "outputs": [
    {
     "data": {
      "text/plain": [
       "array([9, 9, 3, 7, 4])"
      ]
     },
     "execution_count": 138,
     "metadata": {},
     "output_type": "execute_result"
    }
   ],
   "source": [
    "m[0,:]  # : means all columns"
   ]
  },
  {
   "cell_type": "code",
   "execution_count": 139,
   "id": "a8621d39-6eb2-45ce-b9af-9bb18b885234",
   "metadata": {},
   "outputs": [
    {
     "data": {
      "text/plain": [
       "array([9, 9, 3, 7, 4])"
      ]
     },
     "execution_count": 139,
     "metadata": {},
     "output_type": "execute_result"
    }
   ],
   "source": [
    "m[0]"
   ]
  },
  {
   "cell_type": "code",
   "execution_count": 141,
   "id": "3b53d928-3180-4881-9e07-7e81d9461ef3",
   "metadata": {},
   "outputs": [
    {
     "data": {
      "text/plain": [
       "array([[9, 9, 3],\n",
       "       [8, 7, 5]])"
      ]
     },
     "execution_count": 141,
     "metadata": {},
     "output_type": "execute_result"
    }
   ],
   "source": [
    "m[0:2, 0:3]  # first one is rows and second is columns"
   ]
  },
  {
   "cell_type": "code",
   "execution_count": 143,
   "id": "e193e036-9c94-4077-8dc5-1c2ffc617340",
   "metadata": {},
   "outputs": [
    {
     "data": {
      "text/plain": [
       "array([[9, 9],\n",
       "       [8, 7],\n",
       "       [0, 6],\n",
       "       [7, 9],\n",
       "       [6, 0]])"
      ]
     },
     "execution_count": 143,
     "metadata": {},
     "output_type": "execute_result"
    }
   ],
   "source": [
    "m[::, :2]  # all rows and from 0 to 2 columns"
   ]
  },
  {
   "cell_type": "code",
   "execution_count": 144,
   "id": "fe1305c5-6dac-4bb4-85a9-b81719887350",
   "metadata": {},
   "outputs": [
    {
     "data": {
      "text/plain": [
       "array([[9, 9],\n",
       "       [8, 7],\n",
       "       [0, 6],\n",
       "       [7, 9],\n",
       "       [6, 0]])"
      ]
     },
     "execution_count": 144,
     "metadata": {},
     "output_type": "execute_result"
    }
   ],
   "source": [
    "m[:, 0:2]"
   ]
  },
  {
   "cell_type": "code",
   "execution_count": 145,
   "id": "15f121cc-0bbf-4d82-9510-6522f2f279cb",
   "metadata": {},
   "outputs": [
    {
     "data": {
      "text/plain": [
       "array([[9, 9, 3, 7, 4],\n",
       "       [8, 7, 5, 9, 0],\n",
       "       [0, 6, 7, 8, 7],\n",
       "       [7, 9, 3, 6, 5],\n",
       "       [6, 0, 8, 4, 8]])"
      ]
     },
     "execution_count": 145,
     "metadata": {},
     "output_type": "execute_result"
    }
   ],
   "source": [
    "m"
   ]
  },
  {
   "cell_type": "code",
   "execution_count": 146,
   "id": "75f2c0e1-1b30-4881-82c0-e65d69c9a7c2",
   "metadata": {},
   "outputs": [
    {
     "data": {
      "text/plain": [
       "array([[8, 7],\n",
       "       [0, 6]])"
      ]
     },
     "execution_count": 146,
     "metadata": {},
     "output_type": "execute_result"
    }
   ],
   "source": [
    "m[1:3, 0:2]"
   ]
  },
  {
   "cell_type": "markdown",
   "id": "930e4229-3f8d-4a67-8dd7-4b2333038db9",
   "metadata": {},
   "source": [
    "## Operations after slicing"
   ]
  },
  {
   "cell_type": "code",
   "execution_count": 147,
   "id": "389393f8-1d97-4d79-9382-eb5250c46b48",
   "metadata": {},
   "outputs": [
    {
     "data": {
      "text/plain": [
       "array([[4, 5, 0, 5, 7],\n",
       "       [8, 4, 4, 9, 6],\n",
       "       [7, 5, 5, 4, 2],\n",
       "       [2, 2, 6, 1, 6],\n",
       "       [0, 4, 3, 5, 0]])"
      ]
     },
     "execution_count": 147,
     "metadata": {},
     "output_type": "execute_result"
    }
   ],
   "source": [
    "import numpy as np\n",
    "a = np.random.randint(10, size = (5,5))\n",
    "a"
   ]
  },
  {
   "cell_type": "code",
   "execution_count": 148,
   "id": "458e72ce-21ad-4615-a6d3-907694187ef4",
   "metadata": {},
   "outputs": [
    {
     "data": {
      "text/plain": [
       "array([[4, 5],\n",
       "       [8, 4],\n",
       "       [7, 5]])"
      ]
     },
     "execution_count": 148,
     "metadata": {},
     "output_type": "execute_result"
    }
   ],
   "source": [
    "sub_a = a[0:3, :2]\n",
    "sub_a"
   ]
  },
  {
   "cell_type": "code",
   "execution_count": 149,
   "id": "a3639f97-972c-42ac-8f87-9e43e0e4354d",
   "metadata": {},
   "outputs": [],
   "source": [
    "sub_a[0,0] = 999\n",
    "sub_a[1,1] = 888"
   ]
  },
  {
   "cell_type": "code",
   "execution_count": 150,
   "id": "12a60c5d-7c4e-428f-8b66-f42198d89ddd",
   "metadata": {},
   "outputs": [
    {
     "data": {
      "text/plain": [
       "array([[999,   5],\n",
       "       [  8, 888],\n",
       "       [  7,   5]])"
      ]
     },
     "execution_count": 150,
     "metadata": {},
     "output_type": "execute_result"
    }
   ],
   "source": [
    "sub_a"
   ]
  },
  {
   "cell_type": "code",
   "execution_count": 151,
   "id": "5e0da5ba-1de3-4871-8455-4e264c65f799",
   "metadata": {},
   "outputs": [
    {
     "data": {
      "text/plain": [
       "array([[999,   5,   0,   5,   7],\n",
       "       [  8, 888,   4,   9,   6],\n",
       "       [  7,   5,   5,   4,   2],\n",
       "       [  2,   2,   6,   1,   6],\n",
       "       [  0,   4,   3,   5,   0]])"
      ]
     },
     "execution_count": 151,
     "metadata": {},
     "output_type": "execute_result"
    }
   ],
   "source": [
    "a"
   ]
  },
  {
   "cell_type": "markdown",
   "id": "d4fa5f5b-c25d-406f-bc18-9cb581a5ec03",
   "metadata": {},
   "source": [
    "as seen above, operations made in subarray but also affected original array"
   ]
  },
  {
   "cell_type": "code",
   "execution_count": 152,
   "id": "8020f49c-8755-4df9-845b-b999c03e74fd",
   "metadata": {},
   "outputs": [
    {
     "data": {
      "text/plain": [
       "array([[7, 3, 6, 3, 7],\n",
       "       [5, 0, 8, 4, 9],\n",
       "       [9, 2, 0, 1, 1],\n",
       "       [9, 1, 2, 0, 6],\n",
       "       [6, 6, 4, 8, 2]])"
      ]
     },
     "execution_count": 152,
     "metadata": {},
     "output_type": "execute_result"
    }
   ],
   "source": [
    "m = np.random.randint(10, size = (5,5))\n",
    "m"
   ]
  },
  {
   "cell_type": "code",
   "execution_count": 154,
   "id": "21b566e0-dfd2-4fc6-9096-7a6ab4e5b2d9",
   "metadata": {},
   "outputs": [
    {
     "data": {
      "text/plain": [
       "array([[7, 3],\n",
       "       [5, 0],\n",
       "       [9, 2]])"
      ]
     },
     "execution_count": 154,
     "metadata": {},
     "output_type": "execute_result"
    }
   ],
   "source": [
    "sub_b = m[:3, :2].copy()  # with this copy() method, we take another array from original\n",
    "sub_b"
   ]
  },
  {
   "cell_type": "code",
   "execution_count": 155,
   "id": "f95d46ea-0256-470a-89e2-369b8c0822ad",
   "metadata": {},
   "outputs": [],
   "source": [
    "sub_b[0,0] = 999"
   ]
  },
  {
   "cell_type": "code",
   "execution_count": 156,
   "id": "f86b4013-a6c9-4878-9e41-b6fadfc98f72",
   "metadata": {},
   "outputs": [
    {
     "data": {
      "text/plain": [
       "array([[999,   3],\n",
       "       [  5,   0],\n",
       "       [  9,   2]])"
      ]
     },
     "execution_count": 156,
     "metadata": {},
     "output_type": "execute_result"
    }
   ],
   "source": [
    "sub_b"
   ]
  },
  {
   "cell_type": "code",
   "execution_count": 157,
   "id": "22059f8a-0a13-44d7-b176-a31e460471ce",
   "metadata": {},
   "outputs": [
    {
     "data": {
      "text/plain": [
       "array([[7, 3, 6, 3, 7],\n",
       "       [5, 0, 8, 4, 9],\n",
       "       [9, 2, 0, 1, 1],\n",
       "       [9, 1, 2, 0, 6],\n",
       "       [6, 6, 4, 8, 2]])"
      ]
     },
     "execution_count": 157,
     "metadata": {},
     "output_type": "execute_result"
    }
   ],
   "source": [
    "m"
   ]
  },
  {
   "cell_type": "markdown",
   "id": "9e839ae5-6847-46bd-90ef-a04fb7a83e77",
   "metadata": {},
   "source": [
    "as seen above, with copy(), there is no change in original array"
   ]
  },
  {
   "cell_type": "markdown",
   "id": "b3ec45ed-3eb6-48d0-aa3f-6037f949cbcc",
   "metadata": {},
   "source": [
    "## Accesing elements with Fancy Index "
   ]
  },
  {
   "cell_type": "code",
   "execution_count": 160,
   "id": "abea77ee-1ab4-44bd-b4ed-6032d0d9c498",
   "metadata": {},
   "outputs": [
    {
     "data": {
      "text/plain": [
       "array([ 0,  3,  6,  9, 12, 15, 18, 21, 24, 27])"
      ]
     },
     "execution_count": 160,
     "metadata": {},
     "output_type": "execute_result"
    }
   ],
   "source": [
    "import numpy as np\n",
    "v = np.arange(0, 30, 3)\n",
    "v"
   ]
  },
  {
   "cell_type": "code",
   "execution_count": 161,
   "id": "c6b236a6-f67f-403a-9d8b-c9d24e8d6dc9",
   "metadata": {},
   "outputs": [
    {
     "data": {
      "text/plain": [
       "3"
      ]
     },
     "execution_count": 161,
     "metadata": {},
     "output_type": "execute_result"
    }
   ],
   "source": [
    "v[1]"
   ]
  },
  {
   "cell_type": "code",
   "execution_count": 162,
   "id": "c174fda4-dbda-439e-a63f-55e7b83741ae",
   "metadata": {},
   "outputs": [
    {
     "data": {
      "text/plain": [
       "9"
      ]
     },
     "execution_count": 162,
     "metadata": {},
     "output_type": "execute_result"
    }
   ],
   "source": [
    "v[3]"
   ]
  },
  {
   "cell_type": "code",
   "execution_count": 163,
   "id": "3dbdf01c-ecca-456c-b85a-d2bdf16d0315",
   "metadata": {},
   "outputs": [
    {
     "data": {
      "text/plain": [
       "15"
      ]
     },
     "execution_count": 163,
     "metadata": {},
     "output_type": "execute_result"
    }
   ],
   "source": [
    "v[5]"
   ]
  },
  {
   "cell_type": "code",
   "execution_count": 164,
   "id": "a46c1a63-08e4-4763-9eaa-89377e07aeef",
   "metadata": {},
   "outputs": [
    {
     "data": {
      "text/plain": [
       "[3, 9, 15]"
      ]
     },
     "execution_count": 164,
     "metadata": {},
     "output_type": "execute_result"
    }
   ],
   "source": [
    "[v[1], v[3], v[5]]"
   ]
  },
  {
   "cell_type": "code",
   "execution_count": 165,
   "id": "f4affc4b-c297-4f35-a796-5a1eca94a61b",
   "metadata": {},
   "outputs": [],
   "source": [
    "go_get = [1,3,5]"
   ]
  },
  {
   "cell_type": "code",
   "execution_count": 166,
   "id": "13b2b6bb-c2ac-40c0-8486-4fbdeaa97bfe",
   "metadata": {},
   "outputs": [
    {
     "data": {
      "text/plain": [
       "array([ 0,  3,  6,  9, 12, 15, 18, 21, 24, 27])"
      ]
     },
     "execution_count": 166,
     "metadata": {},
     "output_type": "execute_result"
    }
   ],
   "source": [
    "v"
   ]
  },
  {
   "cell_type": "code",
   "execution_count": 167,
   "id": "ff15307c-013e-4f33-a1a3-010f95cc0e64",
   "metadata": {},
   "outputs": [
    {
     "data": {
      "text/plain": [
       "array([ 3,  9, 15])"
      ]
     },
     "execution_count": 167,
     "metadata": {},
     "output_type": "execute_result"
    }
   ],
   "source": [
    "v[go_get]"
   ]
  },
  {
   "cell_type": "markdown",
   "id": "4bf8335c-971f-40ad-83e5-c333c2bb7ada",
   "metadata": {},
   "source": [
    "### fancy index in two dimension"
   ]
  },
  {
   "cell_type": "code",
   "execution_count": 168,
   "id": "9283eaec-8a9b-403c-8b44-f8dcb95893b7",
   "metadata": {},
   "outputs": [],
   "source": [
    "m = np.arange(9).reshape((3,3))"
   ]
  },
  {
   "cell_type": "code",
   "execution_count": 169,
   "id": "70e74253-cd83-4e2b-a39c-aa1e1cc2c8eb",
   "metadata": {},
   "outputs": [
    {
     "data": {
      "text/plain": [
       "array([[0, 1, 2],\n",
       "       [3, 4, 5],\n",
       "       [6, 7, 8]])"
      ]
     },
     "execution_count": 169,
     "metadata": {},
     "output_type": "execute_result"
    }
   ],
   "source": [
    "m"
   ]
  },
  {
   "cell_type": "code",
   "execution_count": 170,
   "id": "98803fdd-9d30-4bbb-a1f4-447e16d1dd57",
   "metadata": {},
   "outputs": [],
   "source": [
    "row = np.array([0,1])\n",
    "column = np.array([1,2])"
   ]
  },
  {
   "cell_type": "code",
   "execution_count": 171,
   "id": "ce10336e-289d-421c-bbcb-f3c67d51f742",
   "metadata": {},
   "outputs": [
    {
     "data": {
      "text/plain": [
       "array([1, 5])"
      ]
     },
     "execution_count": 171,
     "metadata": {},
     "output_type": "execute_result"
    }
   ],
   "source": [
    "m[row, column]"
   ]
  },
  {
   "cell_type": "code",
   "execution_count": 175,
   "id": "c60c7a03-167d-4585-b3e9-4fd3b79f60b8",
   "metadata": {},
   "outputs": [],
   "source": [
    "# basic index and fancy index"
   ]
  },
  {
   "cell_type": "code",
   "execution_count": 176,
   "id": "129d81cd-e1c5-4205-8bb7-92aafa39b0e9",
   "metadata": {},
   "outputs": [
    {
     "data": {
      "text/plain": [
       "array([[0, 1, 2],\n",
       "       [3, 4, 5],\n",
       "       [6, 7, 8]])"
      ]
     },
     "execution_count": 176,
     "metadata": {},
     "output_type": "execute_result"
    }
   ],
   "source": [
    "m"
   ]
  },
  {
   "cell_type": "code",
   "execution_count": 177,
   "id": "0872ab0a-be4b-4d00-bed4-8b72974e1cb9",
   "metadata": {},
   "outputs": [
    {
     "data": {
      "text/plain": [
       "array([1, 2])"
      ]
     },
     "execution_count": 177,
     "metadata": {},
     "output_type": "execute_result"
    }
   ],
   "source": [
    "m[0, [1,2]]"
   ]
  },
  {
   "cell_type": "code",
   "execution_count": 178,
   "id": "b0cddd75-2abe-4c9a-8fe1-02c90ce608c0",
   "metadata": {},
   "outputs": [
    {
     "data": {
      "text/plain": [
       "array([[1, 2],\n",
       "       [4, 5],\n",
       "       [7, 8]])"
      ]
     },
     "execution_count": 178,
     "metadata": {},
     "output_type": "execute_result"
    }
   ],
   "source": [
    "# slice and fancy index\n",
    "m[0:, [1,2]]"
   ]
  },
  {
   "cell_type": "markdown",
   "id": "b41a6a61-ed75-41a5-9651-5fcc6b19b347",
   "metadata": {},
   "source": [
    "## Conditional Element Operations"
   ]
  },
  {
   "cell_type": "code",
   "execution_count": 179,
   "id": "b6d28da8-052c-479e-827a-145e7915ad6a",
   "metadata": {},
   "outputs": [],
   "source": [
    "import numpy as np\n",
    "v = np.array([1,2,3,4,5])"
   ]
  },
  {
   "cell_type": "code",
   "execution_count": 180,
   "id": "27738948-807d-4060-a3ce-cee28bf51adf",
   "metadata": {},
   "outputs": [
    {
     "data": {
      "text/plain": [
       "array([False, False, False, False, False])"
      ]
     },
     "execution_count": 180,
     "metadata": {},
     "output_type": "execute_result"
    }
   ],
   "source": [
    "v > 5"
   ]
  },
  {
   "cell_type": "code",
   "execution_count": 181,
   "id": "47713e5c-25dd-4bbd-b5e7-f503c3bde72c",
   "metadata": {},
   "outputs": [
    {
     "data": {
      "text/plain": [
       "array([ True,  True, False, False, False])"
      ]
     },
     "execution_count": 181,
     "metadata": {},
     "output_type": "execute_result"
    }
   ],
   "source": [
    "v < 3"
   ]
  },
  {
   "cell_type": "code",
   "execution_count": 182,
   "id": "81d3f9ff-a737-4e5d-9168-7ab9b26692e4",
   "metadata": {},
   "outputs": [
    {
     "data": {
      "text/plain": [
       "array([1, 2])"
      ]
     },
     "execution_count": 182,
     "metadata": {},
     "output_type": "execute_result"
    }
   ],
   "source": [
    "v[v<3]"
   ]
  },
  {
   "cell_type": "code",
   "execution_count": 183,
   "id": "a95bd7ee-d657-4084-b91a-ecb9197b20a1",
   "metadata": {},
   "outputs": [
    {
     "data": {
      "text/plain": [
       "array([4, 5])"
      ]
     },
     "execution_count": 183,
     "metadata": {},
     "output_type": "execute_result"
    }
   ],
   "source": [
    "v[v>3]"
   ]
  },
  {
   "cell_type": "code",
   "execution_count": 184,
   "id": "cd3b4494-8345-4d75-9c5e-4c0289a8fd70",
   "metadata": {},
   "outputs": [
    {
     "data": {
      "text/plain": [
       "array([3, 4, 5])"
      ]
     },
     "execution_count": 184,
     "metadata": {},
     "output_type": "execute_result"
    }
   ],
   "source": [
    "v[v>=3]"
   ]
  },
  {
   "cell_type": "code",
   "execution_count": 185,
   "id": "8605f201-6a63-4eac-a08a-eb1aace96768",
   "metadata": {},
   "outputs": [
    {
     "data": {
      "text/plain": [
       "array([1, 2, 4, 5])"
      ]
     },
     "execution_count": 185,
     "metadata": {},
     "output_type": "execute_result"
    }
   ],
   "source": [
    "v[v!=3]"
   ]
  },
  {
   "cell_type": "code",
   "execution_count": 186,
   "id": "9706c864-202f-4d46-b0a3-168235806af3",
   "metadata": {},
   "outputs": [
    {
     "data": {
      "text/plain": [
       "array([ 2,  4,  6,  8, 10])"
      ]
     },
     "execution_count": 186,
     "metadata": {},
     "output_type": "execute_result"
    }
   ],
   "source": [
    "v * 2"
   ]
  },
  {
   "cell_type": "code",
   "execution_count": 187,
   "id": "0cb64d70-8da5-460c-a250-f3fcec5df51c",
   "metadata": {},
   "outputs": [
    {
     "data": {
      "text/plain": [
       "array([0.2, 0.4, 0.6, 0.8, 1. ])"
      ]
     },
     "execution_count": 187,
     "metadata": {},
     "output_type": "execute_result"
    }
   ],
   "source": [
    "v / 5"
   ]
  },
  {
   "cell_type": "code",
   "execution_count": 188,
   "id": "92fd57ab-f3ee-4d1b-9fc5-7652650c9643",
   "metadata": {},
   "outputs": [
    {
     "data": {
      "text/plain": [
       "array([ 1,  4,  9, 16, 25], dtype=int32)"
      ]
     },
     "execution_count": 188,
     "metadata": {},
     "output_type": "execute_result"
    }
   ],
   "source": [
    "v**2"
   ]
  },
  {
   "cell_type": "markdown",
   "id": "8cc8ada0-067b-4698-b011-4d91f7086eac",
   "metadata": {},
   "source": [
    "## Mathematical Operations"
   ]
  },
  {
   "cell_type": "code",
   "execution_count": 189,
   "id": "6c23f1c1-fbb7-411d-ba29-c48c90d630bf",
   "metadata": {},
   "outputs": [],
   "source": [
    "import numpy as np\n",
    "v = np.array([1,2,3,4,5])"
   ]
  },
  {
   "cell_type": "code",
   "execution_count": 190,
   "id": "5bd52534-fa4a-4e25-972a-49a836b168b0",
   "metadata": {},
   "outputs": [
    {
     "data": {
      "text/plain": [
       "array([0, 1, 2, 3, 4])"
      ]
     },
     "execution_count": 190,
     "metadata": {},
     "output_type": "execute_result"
    }
   ],
   "source": [
    "v - 1"
   ]
  },
  {
   "cell_type": "code",
   "execution_count": 191,
   "id": "c41dfad2-1e83-4772-bc3b-7074851a52d0",
   "metadata": {},
   "outputs": [
    {
     "data": {
      "text/plain": [
       "array([ 5, 10, 15, 20, 25])"
      ]
     },
     "execution_count": 191,
     "metadata": {},
     "output_type": "execute_result"
    }
   ],
   "source": [
    "v * 5"
   ]
  },
  {
   "cell_type": "code",
   "execution_count": 192,
   "id": "6c57bfa6-2b46-4fb2-bbf5-8446b2ed3c6f",
   "metadata": {},
   "outputs": [
    {
     "data": {
      "text/plain": [
       "array([0.2, 0.4, 0.6, 0.8, 1. ])"
      ]
     },
     "execution_count": 192,
     "metadata": {},
     "output_type": "execute_result"
    }
   ],
   "source": [
    "v / 5"
   ]
  },
  {
   "cell_type": "code",
   "execution_count": 193,
   "id": "9401ffe9-d7c2-4e21-a086-c8c3d218e245",
   "metadata": {},
   "outputs": [
    {
     "data": {
      "text/plain": [
       "array([-0.5,  0. ,  0.5,  1. ,  1.5])"
      ]
     },
     "execution_count": 193,
     "metadata": {},
     "output_type": "execute_result"
    }
   ],
   "source": [
    "v*5/10-1"
   ]
  },
  {
   "cell_type": "code",
   "execution_count": 198,
   "id": "9029bdaf-8c37-4e85-931f-08fa86c089f0",
   "metadata": {},
   "outputs": [],
   "source": [
    "# ufunc"
   ]
  },
  {
   "cell_type": "code",
   "execution_count": 199,
   "id": "16d4f1da-38b2-423f-9f6b-26685c50930a",
   "metadata": {},
   "outputs": [
    {
     "data": {
      "text/plain": [
       "array([0, 1, 2, 3, 4])"
      ]
     },
     "execution_count": 199,
     "metadata": {},
     "output_type": "execute_result"
    }
   ],
   "source": [
    "np.subtract(v, 1)"
   ]
  },
  {
   "cell_type": "code",
   "execution_count": 200,
   "id": "6fb58378-a881-496e-aaa7-cd9be820f9c5",
   "metadata": {},
   "outputs": [
    {
     "data": {
      "text/plain": [
       "array([2, 3, 4, 5, 6])"
      ]
     },
     "execution_count": 200,
     "metadata": {},
     "output_type": "execute_result"
    }
   ],
   "source": [
    "np.add(v, 1)"
   ]
  },
  {
   "cell_type": "code",
   "execution_count": 201,
   "id": "7bd35441-24fd-4cbb-b8c0-662679577d0d",
   "metadata": {},
   "outputs": [
    {
     "data": {
      "text/plain": [
       "array([ 4,  8, 12, 16, 20])"
      ]
     },
     "execution_count": 201,
     "metadata": {},
     "output_type": "execute_result"
    }
   ],
   "source": [
    "np.multiply(v, 4)"
   ]
  },
  {
   "cell_type": "code",
   "execution_count": 202,
   "id": "e4f6c266-4c76-4840-bd62-24ad1e5f7525",
   "metadata": {},
   "outputs": [
    {
     "data": {
      "text/plain": [
       "array([0.5, 1. , 1.5, 2. , 2.5])"
      ]
     },
     "execution_count": 202,
     "metadata": {},
     "output_type": "execute_result"
    }
   ],
   "source": [
    "np.divide(v, 2)"
   ]
  },
  {
   "cell_type": "code",
   "execution_count": 203,
   "id": "18503fa0-ac79-48db-9713-c0f3475d8c92",
   "metadata": {},
   "outputs": [
    {
     "data": {
      "text/plain": [
       "array([ 1,  4,  9, 16, 25], dtype=int32)"
      ]
     },
     "execution_count": 203,
     "metadata": {},
     "output_type": "execute_result"
    }
   ],
   "source": [
    "np.power(v,2)"
   ]
  },
  {
   "cell_type": "code",
   "execution_count": 204,
   "id": "930bfd10-abea-42d9-8598-e84a5fd6a39e",
   "metadata": {},
   "outputs": [
    {
     "data": {
      "text/plain": [
       "array([  1,   8,  27,  64, 125], dtype=int32)"
      ]
     },
     "execution_count": 204,
     "metadata": {},
     "output_type": "execute_result"
    }
   ],
   "source": [
    "np.power(v,3)"
   ]
  },
  {
   "cell_type": "code",
   "execution_count": 205,
   "id": "8e6bda7a-b89f-488d-9c72-a391133668b0",
   "metadata": {},
   "outputs": [
    {
     "data": {
      "text/plain": [
       "array([1, 0, 1, 0, 1], dtype=int32)"
      ]
     },
     "execution_count": 205,
     "metadata": {},
     "output_type": "execute_result"
    }
   ],
   "source": [
    "v % 2"
   ]
  },
  {
   "cell_type": "code",
   "execution_count": 206,
   "id": "a0ee7aae-c265-4840-a47f-1eeb30047d66",
   "metadata": {},
   "outputs": [
    {
     "data": {
      "text/plain": [
       "array([1, 0, 1, 0, 1], dtype=int32)"
      ]
     },
     "execution_count": 206,
     "metadata": {},
     "output_type": "execute_result"
    }
   ],
   "source": [
    "np.mod(v, 2)"
   ]
  },
  {
   "cell_type": "code",
   "execution_count": 207,
   "id": "479d498e-b3f4-4a4c-9361-9c6c783b3170",
   "metadata": {},
   "outputs": [
    {
     "data": {
      "text/plain": [
       "array([3, 2, 1, 0, 1, 2, 3])"
      ]
     },
     "execution_count": 207,
     "metadata": {},
     "output_type": "execute_result"
    }
   ],
   "source": [
    "np.absolute(np.array([-3,-2,-1,0,1,2,3]))"
   ]
  },
  {
   "cell_type": "code",
   "execution_count": 208,
   "id": "b054f9ec-b538-4013-92ad-2b132b2bcfb5",
   "metadata": {},
   "outputs": [
    {
     "data": {
      "text/plain": [
       "0.9589157234143065"
      ]
     },
     "execution_count": 208,
     "metadata": {},
     "output_type": "execute_result"
    }
   ],
   "source": [
    "np.sin(360)"
   ]
  },
  {
   "cell_type": "code",
   "execution_count": 209,
   "id": "f4c93822-f1c3-4743-a798-99c9af5e05a6",
   "metadata": {},
   "outputs": [
    {
     "data": {
      "text/plain": [
       "-0.5984600690578581"
      ]
     },
     "execution_count": 209,
     "metadata": {},
     "output_type": "execute_result"
    }
   ],
   "source": [
    "np.cos(180)"
   ]
  },
  {
   "cell_type": "code",
   "execution_count": 213,
   "id": "07e50d46-a393-4f92-b83f-8f740746e831",
   "metadata": {},
   "outputs": [
    {
     "data": {
      "text/plain": [
       "0.8939966636005579"
      ]
     },
     "execution_count": 213,
     "metadata": {},
     "output_type": "execute_result"
    }
   ],
   "source": [
    "np.sin(90)"
   ]
  },
  {
   "cell_type": "code",
   "execution_count": 214,
   "id": "22e83494-fb99-4cb1-9a25-5f3883c56753",
   "metadata": {},
   "outputs": [],
   "source": [
    "v = np.array([1,2,3])"
   ]
  },
  {
   "cell_type": "code",
   "execution_count": 215,
   "id": "f9e2c9a2-ba7a-429d-987c-1bd1a3f458e2",
   "metadata": {},
   "outputs": [
    {
     "data": {
      "text/plain": [
       "array([0.        , 0.69314718, 1.09861229])"
      ]
     },
     "execution_count": 215,
     "metadata": {},
     "output_type": "execute_result"
    }
   ],
   "source": [
    "np.log(v)"
   ]
  },
  {
   "cell_type": "code",
   "execution_count": 216,
   "id": "3c6b38a0-49b0-4a1a-a5a2-81a0f854cd55",
   "metadata": {},
   "outputs": [
    {
     "data": {
      "text/plain": [
       "array([0.       , 1.       , 1.5849625])"
      ]
     },
     "execution_count": 216,
     "metadata": {},
     "output_type": "execute_result"
    }
   ],
   "source": [
    "np.log2(v)"
   ]
  },
  {
   "cell_type": "code",
   "execution_count": 223,
   "id": "4db5c742-ca57-4419-82f7-ca8ebd76fbda",
   "metadata": {},
   "outputs": [
    {
     "data": {
      "text/plain": [
       "array([0.       , 2.       , 4.7548875, 6.       ])"
      ]
     },
     "execution_count": 223,
     "metadata": {},
     "output_type": "execute_result"
    }
   ],
   "source": [
    "np.log2(np.array([1,4,27,64]))"
   ]
  },
  {
   "cell_type": "code",
   "execution_count": 227,
   "id": "bbbddb1e-b19b-4c92-8af2-07c3fdd56e44",
   "metadata": {},
   "outputs": [],
   "source": [
    "# we can write this to see summary numpy documentation\n",
    "?np"
   ]
  },
  {
   "cell_type": "markdown",
   "id": "1afb5622-aef8-4395-9ff8-aa404d122e9b",
   "metadata": {},
   "source": [
    "## Statistical Calculations Numpy\n",
    "\n",
    "* np.mean(arr,axis=0) | Returns mean along specific axis\n",
    "* arr.sum() | Returns sum of arr\n",
    "* arr.min() | Returns minimum value of arr\n",
    "* arr.max(axis=0) | Returns maximum value of specific axis\n",
    "* np.var(arr) | Returns the variance of array\n",
    "* np.std(arr,axis=1) | Returns the standard deviation of specific axis\n",
    "* arr.corrcoef() | Returns correlation coefficient of array"
   ]
  },
  {
   "cell_type": "code",
   "execution_count": 231,
   "id": "dd77720a-0496-4c6a-b28b-bc15bee286c2",
   "metadata": {},
   "outputs": [
    {
     "data": {
      "text/plain": [
       "array([1, 2, 3])"
      ]
     },
     "execution_count": 231,
     "metadata": {},
     "output_type": "execute_result"
    }
   ],
   "source": [
    "v"
   ]
  },
  {
   "cell_type": "code",
   "execution_count": 232,
   "id": "9818e265-418e-4b74-b40c-4c39e5792e41",
   "metadata": {},
   "outputs": [
    {
     "data": {
      "text/plain": [
       "2.0"
      ]
     },
     "execution_count": 232,
     "metadata": {},
     "output_type": "execute_result"
    }
   ],
   "source": [
    "np.mean(v)"
   ]
  },
  {
   "cell_type": "code",
   "execution_count": 233,
   "id": "e961cd9d-718b-435e-8c6b-3642ba2ec617",
   "metadata": {},
   "outputs": [
    {
     "data": {
      "text/plain": [
       "6"
      ]
     },
     "execution_count": 233,
     "metadata": {},
     "output_type": "execute_result"
    }
   ],
   "source": [
    "v.sum()"
   ]
  },
  {
   "cell_type": "code",
   "execution_count": 234,
   "id": "d8ca741a-b41c-4f9a-8d9a-25ef6d7b6c4b",
   "metadata": {},
   "outputs": [
    {
     "data": {
      "text/plain": [
       "1"
      ]
     },
     "execution_count": 234,
     "metadata": {},
     "output_type": "execute_result"
    }
   ],
   "source": [
    "v.min()"
   ]
  },
  {
   "cell_type": "code",
   "execution_count": 235,
   "id": "433ceeeb-c32e-49c4-83fa-f15c4fcbc35b",
   "metadata": {},
   "outputs": [
    {
     "data": {
      "text/plain": [
       "0.6666666666666666"
      ]
     },
     "execution_count": 235,
     "metadata": {},
     "output_type": "execute_result"
    }
   ],
   "source": [
    "np.var(v)"
   ]
  },
  {
   "cell_type": "code",
   "execution_count": 237,
   "id": "3315465e-ce23-4152-b538-be159ccb4ed8",
   "metadata": {},
   "outputs": [
    {
     "data": {
      "text/plain": [
       "0.816496580927726"
      ]
     },
     "execution_count": 237,
     "metadata": {},
     "output_type": "execute_result"
    }
   ],
   "source": [
    "np.std(v)"
   ]
  },
  {
   "cell_type": "markdown",
   "id": "f94781f8-25d0-4a6e-ae3f-831d537a4722",
   "metadata": {},
   "source": [
    "## Two Unknowns Equation Solving with Numpy"
   ]
  },
  {
   "cell_type": "code",
   "execution_count": 239,
   "id": "1394bd46-ba04-4f8f-a993-df4131042604",
   "metadata": {},
   "outputs": [],
   "source": [
    "import numpy as np"
   ]
  },
  {
   "cell_type": "markdown",
   "id": "cfc32cde-f72c-4ff0-9a3b-23e277835ffa",
   "metadata": {},
   "source": [
    "5*x0 + x1 = 12\n"
   ]
  },
  {
   "cell_type": "markdown",
   "id": "b69a5f4f-dfc1-41a9-9295-38f8deb8ebc8",
   "metadata": {},
   "source": [
    "x0 + 3*x1 = 10"
   ]
  },
  {
   "cell_type": "code",
   "execution_count": 242,
   "id": "5fdde89f-989b-438e-8183-07d7950d5b7a",
   "metadata": {},
   "outputs": [],
   "source": [
    "a = np.array([[5,1], [1,3]])  # they are coefficient of x0 and x1\n",
    "b = np.array([12, 10])"
   ]
  },
  {
   "cell_type": "code",
   "execution_count": 243,
   "id": "0dbc405c-8e42-4a71-a67d-b1c91840b2c7",
   "metadata": {},
   "outputs": [
    {
     "data": {
      "text/plain": [
       "array([[5, 1],\n",
       "       [1, 3]])"
      ]
     },
     "execution_count": 243,
     "metadata": {},
     "output_type": "execute_result"
    }
   ],
   "source": [
    "a"
   ]
  },
  {
   "cell_type": "code",
   "execution_count": 244,
   "id": "215c85ad-370e-4a1f-bd52-d388247b21fc",
   "metadata": {},
   "outputs": [
    {
     "data": {
      "text/plain": [
       "array([12, 10])"
      ]
     },
     "execution_count": 244,
     "metadata": {},
     "output_type": "execute_result"
    }
   ],
   "source": [
    "b"
   ]
  },
  {
   "cell_type": "code",
   "execution_count": 245,
   "id": "dd213423-11b5-4b63-b460-22a86694c157",
   "metadata": {},
   "outputs": [
    {
     "data": {
      "text/plain": [
       "array([1.85714286, 2.71428571])"
      ]
     },
     "execution_count": 245,
     "metadata": {},
     "output_type": "execute_result"
    }
   ],
   "source": [
    "x = np.linalg.solve(a, b)\n",
    "x"
   ]
  },
  {
   "cell_type": "code",
   "execution_count": null,
   "id": "ab8e8700-91b2-4006-8b28-e8928310ab43",
   "metadata": {},
   "outputs": [],
   "source": []
  }
 ],
 "metadata": {
  "kernelspec": {
   "display_name": "Python 3 (ipykernel)",
   "language": "python",
   "name": "python3"
  },
  "language_info": {
   "codemirror_mode": {
    "name": "ipython",
    "version": 3
   },
   "file_extension": ".py",
   "mimetype": "text/x-python",
   "name": "python",
   "nbconvert_exporter": "python",
   "pygments_lexer": "ipython3",
   "version": "3.9.12"
  }
 },
 "nbformat": 4,
 "nbformat_minor": 5
}
